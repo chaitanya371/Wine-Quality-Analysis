{
 "cells": [
  {
   "cell_type": "markdown",
   "metadata": {},
   "source": [
    "## Wine Quality Analysis"
   ]
  },
  {
   "cell_type": "markdown",
   "metadata": {},
   "source": [
    "Importing Libraries"
   ]
  },
  {
   "cell_type": "code",
   "execution_count": 1,
   "metadata": {},
   "outputs": [],
   "source": [
    "import pandas as pd\n",
    "import numpy as np\n",
    "import matplotlib.pyplot as plt\n",
    "import seaborn as sns"
   ]
  },
  {
   "cell_type": "code",
   "execution_count": 2,
   "metadata": {},
   "outputs": [
    {
     "data": {
      "text/html": [
       "<div>\n",
       "<style scoped>\n",
       "    .dataframe tbody tr th:only-of-type {\n",
       "        vertical-align: middle;\n",
       "    }\n",
       "\n",
       "    .dataframe tbody tr th {\n",
       "        vertical-align: top;\n",
       "    }\n",
       "\n",
       "    .dataframe thead th {\n",
       "        text-align: right;\n",
       "    }\n",
       "</style>\n",
       "<table border=\"1\" class=\"dataframe\">\n",
       "  <thead>\n",
       "    <tr style=\"text-align: right;\">\n",
       "      <th></th>\n",
       "      <th>fixed acidity</th>\n",
       "      <th>volatile acidity</th>\n",
       "      <th>citric acid</th>\n",
       "      <th>residual sugar</th>\n",
       "      <th>chlorides</th>\n",
       "      <th>free sulfur dioxide</th>\n",
       "      <th>total sulfur dioxide</th>\n",
       "      <th>density</th>\n",
       "      <th>pH</th>\n",
       "      <th>sulphates</th>\n",
       "      <th>alcohol</th>\n",
       "      <th>quality</th>\n",
       "    </tr>\n",
       "  </thead>\n",
       "  <tbody>\n",
       "    <tr>\n",
       "      <th>0</th>\n",
       "      <td>7.4</td>\n",
       "      <td>0.700</td>\n",
       "      <td>0.00</td>\n",
       "      <td>1.9</td>\n",
       "      <td>0.076</td>\n",
       "      <td>11.0</td>\n",
       "      <td>34.0</td>\n",
       "      <td>0.99780</td>\n",
       "      <td>3.51</td>\n",
       "      <td>0.56</td>\n",
       "      <td>9.4</td>\n",
       "      <td>5.0</td>\n",
       "    </tr>\n",
       "    <tr>\n",
       "      <th>1</th>\n",
       "      <td>7.8</td>\n",
       "      <td>0.880</td>\n",
       "      <td>0.00</td>\n",
       "      <td>2.6</td>\n",
       "      <td>0.098</td>\n",
       "      <td>25.0</td>\n",
       "      <td>67.0</td>\n",
       "      <td>0.99680</td>\n",
       "      <td>3.20</td>\n",
       "      <td>0.68</td>\n",
       "      <td>9.8</td>\n",
       "      <td>5.0</td>\n",
       "    </tr>\n",
       "    <tr>\n",
       "      <th>2</th>\n",
       "      <td>7.8</td>\n",
       "      <td>0.760</td>\n",
       "      <td>0.04</td>\n",
       "      <td>2.3</td>\n",
       "      <td>0.092</td>\n",
       "      <td>15.0</td>\n",
       "      <td>54.0</td>\n",
       "      <td>0.99700</td>\n",
       "      <td>3.26</td>\n",
       "      <td>0.65</td>\n",
       "      <td>9.8</td>\n",
       "      <td>5.0</td>\n",
       "    </tr>\n",
       "    <tr>\n",
       "      <th>3</th>\n",
       "      <td>11.2</td>\n",
       "      <td>0.280</td>\n",
       "      <td>0.56</td>\n",
       "      <td>1.9</td>\n",
       "      <td>0.075</td>\n",
       "      <td>17.0</td>\n",
       "      <td>60.0</td>\n",
       "      <td>0.99800</td>\n",
       "      <td>3.16</td>\n",
       "      <td>0.58</td>\n",
       "      <td>9.8</td>\n",
       "      <td>6.0</td>\n",
       "    </tr>\n",
       "    <tr>\n",
       "      <th>4</th>\n",
       "      <td>7.4</td>\n",
       "      <td>0.700</td>\n",
       "      <td>0.00</td>\n",
       "      <td>1.9</td>\n",
       "      <td>0.076</td>\n",
       "      <td>11.0</td>\n",
       "      <td>34.0</td>\n",
       "      <td>0.99780</td>\n",
       "      <td>3.51</td>\n",
       "      <td>0.56</td>\n",
       "      <td>9.4</td>\n",
       "      <td>5.0</td>\n",
       "    </tr>\n",
       "    <tr>\n",
       "      <th>...</th>\n",
       "      <td>...</td>\n",
       "      <td>...</td>\n",
       "      <td>...</td>\n",
       "      <td>...</td>\n",
       "      <td>...</td>\n",
       "      <td>...</td>\n",
       "      <td>...</td>\n",
       "      <td>...</td>\n",
       "      <td>...</td>\n",
       "      <td>...</td>\n",
       "      <td>...</td>\n",
       "      <td>...</td>\n",
       "    </tr>\n",
       "    <tr>\n",
       "      <th>1594</th>\n",
       "      <td>6.2</td>\n",
       "      <td>0.600</td>\n",
       "      <td>0.08</td>\n",
       "      <td>2.0</td>\n",
       "      <td>0.090</td>\n",
       "      <td>32.0</td>\n",
       "      <td>44.0</td>\n",
       "      <td>0.99490</td>\n",
       "      <td>3.52</td>\n",
       "      <td>0.58</td>\n",
       "      <td>10.5</td>\n",
       "      <td>5.0</td>\n",
       "    </tr>\n",
       "    <tr>\n",
       "      <th>1595</th>\n",
       "      <td>5.9</td>\n",
       "      <td>0.550</td>\n",
       "      <td>0.10</td>\n",
       "      <td>2.2</td>\n",
       "      <td>0.062</td>\n",
       "      <td>39.0</td>\n",
       "      <td>51.0</td>\n",
       "      <td>0.99512</td>\n",
       "      <td>3.52</td>\n",
       "      <td>0.76</td>\n",
       "      <td>11.2</td>\n",
       "      <td>6.0</td>\n",
       "    </tr>\n",
       "    <tr>\n",
       "      <th>1596</th>\n",
       "      <td>6.3</td>\n",
       "      <td>0.510</td>\n",
       "      <td>0.13</td>\n",
       "      <td>2.3</td>\n",
       "      <td>0.076</td>\n",
       "      <td>29.0</td>\n",
       "      <td>40.0</td>\n",
       "      <td>0.99574</td>\n",
       "      <td>3.52</td>\n",
       "      <td>0.75</td>\n",
       "      <td>11.0</td>\n",
       "      <td>6.0</td>\n",
       "    </tr>\n",
       "    <tr>\n",
       "      <th>1597</th>\n",
       "      <td>5.9</td>\n",
       "      <td>0.645</td>\n",
       "      <td>0.12</td>\n",
       "      <td>2.0</td>\n",
       "      <td>0.075</td>\n",
       "      <td>32.0</td>\n",
       "      <td>44.0</td>\n",
       "      <td>0.99547</td>\n",
       "      <td>3.52</td>\n",
       "      <td>0.71</td>\n",
       "      <td>10.2</td>\n",
       "      <td>5.0</td>\n",
       "    </tr>\n",
       "    <tr>\n",
       "      <th>1598</th>\n",
       "      <td>6.0</td>\n",
       "      <td>0.310</td>\n",
       "      <td>0.47</td>\n",
       "      <td>3.6</td>\n",
       "      <td>0.067</td>\n",
       "      <td>18.0</td>\n",
       "      <td>42.0</td>\n",
       "      <td>0.99549</td>\n",
       "      <td>3.52</td>\n",
       "      <td>0.66</td>\n",
       "      <td>11.0</td>\n",
       "      <td>6.0</td>\n",
       "    </tr>\n",
       "  </tbody>\n",
       "</table>\n",
       "<p>1599 rows × 12 columns</p>\n",
       "</div>"
      ],
      "text/plain": [
       "      fixed acidity  volatile acidity  citric acid  residual sugar  chlorides  \\\n",
       "0               7.4             0.700         0.00             1.9      0.076   \n",
       "1               7.8             0.880         0.00             2.6      0.098   \n",
       "2               7.8             0.760         0.04             2.3      0.092   \n",
       "3              11.2             0.280         0.56             1.9      0.075   \n",
       "4               7.4             0.700         0.00             1.9      0.076   \n",
       "...             ...               ...          ...             ...        ...   \n",
       "1594            6.2             0.600         0.08             2.0      0.090   \n",
       "1595            5.9             0.550         0.10             2.2      0.062   \n",
       "1596            6.3             0.510         0.13             2.3      0.076   \n",
       "1597            5.9             0.645         0.12             2.0      0.075   \n",
       "1598            6.0             0.310         0.47             3.6      0.067   \n",
       "\n",
       "      free sulfur dioxide  total sulfur dioxide  density    pH  sulphates  \\\n",
       "0                    11.0                  34.0  0.99780  3.51       0.56   \n",
       "1                    25.0                  67.0  0.99680  3.20       0.68   \n",
       "2                    15.0                  54.0  0.99700  3.26       0.65   \n",
       "3                    17.0                  60.0  0.99800  3.16       0.58   \n",
       "4                    11.0                  34.0  0.99780  3.51       0.56   \n",
       "...                   ...                   ...      ...   ...        ...   \n",
       "1594                 32.0                  44.0  0.99490  3.52       0.58   \n",
       "1595                 39.0                  51.0  0.99512  3.52       0.76   \n",
       "1596                 29.0                  40.0  0.99574  3.52       0.75   \n",
       "1597                 32.0                  44.0  0.99547  3.52       0.71   \n",
       "1598                 18.0                  42.0  0.99549  3.52       0.66   \n",
       "\n",
       "      alcohol  quality  \n",
       "0         9.4      5.0  \n",
       "1         9.8      5.0  \n",
       "2         9.8      5.0  \n",
       "3         9.8      6.0  \n",
       "4         9.4      5.0  \n",
       "...       ...      ...  \n",
       "1594     10.5      5.0  \n",
       "1595     11.2      6.0  \n",
       "1596     11.0      6.0  \n",
       "1597     10.2      5.0  \n",
       "1598     11.0      6.0  \n",
       "\n",
       "[1599 rows x 12 columns]"
      ]
     },
     "execution_count": 2,
     "metadata": {},
     "output_type": "execute_result"
    }
   ],
   "source": [
    "dataset=pd.read_csv('Red_wine_.csv')\n",
    "dataset"
   ]
  },
  {
   "cell_type": "code",
   "execution_count": 4,
   "metadata": {},
   "outputs": [
    {
     "data": {
      "text/plain": [
       "True"
      ]
     },
     "execution_count": 4,
     "metadata": {},
     "output_type": "execute_result"
    }
   ],
   "source": [
    "np.any(np.isnan(dataset))"
   ]
  },
  {
   "cell_type": "code",
   "execution_count": 6,
   "metadata": {},
   "outputs": [
    {
     "data": {
      "text/plain": [
       "fixed acidity           0\n",
       "volatile acidity        0\n",
       "citric acid             0\n",
       "residual sugar          0\n",
       "chlorides               0\n",
       "free sulfur dioxide     0\n",
       "total sulfur dioxide    0\n",
       "density                 0\n",
       "pH                      0\n",
       "sulphates               0\n",
       "alcohol                 0\n",
       "quality                 0\n",
       "dtype: int64"
      ]
     },
     "execution_count": 6,
     "metadata": {},
     "output_type": "execute_result"
    }
   ],
   "source": [
    "dataset.isnull().sum()"
   ]
  },
  {
   "cell_type": "code",
   "execution_count": 7,
   "metadata": {},
   "outputs": [
    {
     "name": "stdout",
     "output_type": "stream",
     "text": [
      "      fixed acidity  volatile acidity  citric acid  residual sugar  chlorides  \\\n",
      "0               7.4             0.700         0.00             1.9      0.076   \n",
      "1               7.8             0.880         0.00             2.6      0.098   \n",
      "2               7.8             0.760         0.04             2.3      0.092   \n",
      "3              11.2             0.280         0.56             1.9      0.075   \n",
      "4               7.4             0.700         0.00             1.9      0.076   \n",
      "...             ...               ...          ...             ...        ...   \n",
      "1594            6.2             0.600         0.08             2.0      0.090   \n",
      "1595            5.9             0.550         0.10             2.2      0.062   \n",
      "1596            6.3             0.510         0.13             2.3      0.076   \n",
      "1597            5.9             0.645         0.12             2.0      0.075   \n",
      "1598            6.0             0.310         0.47             3.6      0.067   \n",
      "\n",
      "      free sulfur dioxide  total sulfur dioxide  density    pH  sulphates  \\\n",
      "0                    11.0                  34.0  0.99780  3.51       0.56   \n",
      "1                    25.0                  67.0  0.99680  3.20       0.68   \n",
      "2                    15.0                  54.0  0.99700  3.26       0.65   \n",
      "3                    17.0                  60.0  0.99800  3.16       0.58   \n",
      "4                    11.0                  34.0  0.99780  3.51       0.56   \n",
      "...                   ...                   ...      ...   ...        ...   \n",
      "1594                 32.0                  44.0  0.99490  3.52       0.58   \n",
      "1595                 39.0                  51.0  0.99512  3.52       0.76   \n",
      "1596                 29.0                  40.0  0.99574  3.52       0.75   \n",
      "1597                 32.0                  44.0  0.99547  3.52       0.71   \n",
      "1598                 18.0                  42.0  0.99549  3.52       0.66   \n",
      "\n",
      "      alcohol  quality  \n",
      "0         9.4      5.0  \n",
      "1         9.8      5.0  \n",
      "2         9.8      5.0  \n",
      "3         9.8      6.0  \n",
      "4         9.4      5.0  \n",
      "...       ...      ...  \n",
      "1594     10.5      5.0  \n",
      "1595     11.2      6.0  \n",
      "1596     11.0      6.0  \n",
      "1597     10.2      5.0  \n",
      "1598     11.0      6.0  \n",
      "\n",
      "[1596 rows x 12 columns]\n"
     ]
    }
   ],
   "source": [
    "data = pd.DataFrame(dataset)\n",
    "\n",
    "\n",
    "# drop all rows with any NaN and NaT values\n",
    "dataset = data.dropna()\n",
    "print(dataset)"
   ]
  },
  {
   "cell_type": "code",
   "execution_count": 8,
   "metadata": {},
   "outputs": [
    {
     "data": {
      "text/plain": [
       "True"
      ]
     },
     "execution_count": 8,
     "metadata": {},
     "output_type": "execute_result"
    }
   ],
   "source": [
    "np.any(np.isfinite(dataset))"
   ]
  },
  {
   "cell_type": "code",
   "execution_count": 9,
   "metadata": {},
   "outputs": [
    {
     "data": {
      "text/html": [
       "<div>\n",
       "<style scoped>\n",
       "    .dataframe tbody tr th:only-of-type {\n",
       "        vertical-align: middle;\n",
       "    }\n",
       "\n",
       "    .dataframe tbody tr th {\n",
       "        vertical-align: top;\n",
       "    }\n",
       "\n",
       "    .dataframe thead th {\n",
       "        text-align: right;\n",
       "    }\n",
       "</style>\n",
       "<table border=\"1\" class=\"dataframe\">\n",
       "  <thead>\n",
       "    <tr style=\"text-align: right;\">\n",
       "      <th></th>\n",
       "      <th>count</th>\n",
       "      <th>mean</th>\n",
       "      <th>std</th>\n",
       "      <th>min</th>\n",
       "      <th>25%</th>\n",
       "      <th>50%</th>\n",
       "      <th>75%</th>\n",
       "      <th>max</th>\n",
       "    </tr>\n",
       "  </thead>\n",
       "  <tbody>\n",
       "    <tr>\n",
       "      <th>fixed acidity</th>\n",
       "      <td>1596.0</td>\n",
       "      <td>8.321366</td>\n",
       "      <td>1.742121</td>\n",
       "      <td>4.60000</td>\n",
       "      <td>7.1000</td>\n",
       "      <td>7.900000</td>\n",
       "      <td>9.200000</td>\n",
       "      <td>15.90000</td>\n",
       "    </tr>\n",
       "    <tr>\n",
       "      <th>volatile acidity</th>\n",
       "      <td>1596.0</td>\n",
       "      <td>0.527666</td>\n",
       "      <td>0.179154</td>\n",
       "      <td>0.12000</td>\n",
       "      <td>0.3900</td>\n",
       "      <td>0.520000</td>\n",
       "      <td>0.640000</td>\n",
       "      <td>1.58000</td>\n",
       "    </tr>\n",
       "    <tr>\n",
       "      <th>citric acid</th>\n",
       "      <td>1596.0</td>\n",
       "      <td>0.271128</td>\n",
       "      <td>0.194847</td>\n",
       "      <td>0.00000</td>\n",
       "      <td>0.0900</td>\n",
       "      <td>0.260000</td>\n",
       "      <td>0.420000</td>\n",
       "      <td>1.00000</td>\n",
       "    </tr>\n",
       "    <tr>\n",
       "      <th>residual sugar</th>\n",
       "      <td>1596.0</td>\n",
       "      <td>2.536936</td>\n",
       "      <td>1.408341</td>\n",
       "      <td>0.90000</td>\n",
       "      <td>1.9000</td>\n",
       "      <td>2.200000</td>\n",
       "      <td>2.600000</td>\n",
       "      <td>15.50000</td>\n",
       "    </tr>\n",
       "    <tr>\n",
       "      <th>chlorides</th>\n",
       "      <td>1596.0</td>\n",
       "      <td>0.087487</td>\n",
       "      <td>0.047107</td>\n",
       "      <td>0.01200</td>\n",
       "      <td>0.0700</td>\n",
       "      <td>0.079000</td>\n",
       "      <td>0.090000</td>\n",
       "      <td>0.61100</td>\n",
       "    </tr>\n",
       "    <tr>\n",
       "      <th>free sulfur dioxide</th>\n",
       "      <td>1596.0</td>\n",
       "      <td>15.882206</td>\n",
       "      <td>10.467380</td>\n",
       "      <td>1.00000</td>\n",
       "      <td>7.0000</td>\n",
       "      <td>14.000000</td>\n",
       "      <td>21.000000</td>\n",
       "      <td>72.00000</td>\n",
       "    </tr>\n",
       "    <tr>\n",
       "      <th>total sulfur dioxide</th>\n",
       "      <td>1596.0</td>\n",
       "      <td>46.431078</td>\n",
       "      <td>32.893072</td>\n",
       "      <td>6.00000</td>\n",
       "      <td>22.0000</td>\n",
       "      <td>38.000000</td>\n",
       "      <td>62.000000</td>\n",
       "      <td>289.00000</td>\n",
       "    </tr>\n",
       "    <tr>\n",
       "      <th>density</th>\n",
       "      <td>1596.0</td>\n",
       "      <td>0.996745</td>\n",
       "      <td>0.001889</td>\n",
       "      <td>0.99007</td>\n",
       "      <td>0.9956</td>\n",
       "      <td>0.996745</td>\n",
       "      <td>0.997842</td>\n",
       "      <td>1.00369</td>\n",
       "    </tr>\n",
       "    <tr>\n",
       "      <th>pH</th>\n",
       "      <td>1596.0</td>\n",
       "      <td>3.498716</td>\n",
       "      <td>0.080297</td>\n",
       "      <td>2.74000</td>\n",
       "      <td>3.5200</td>\n",
       "      <td>3.520000</td>\n",
       "      <td>3.520000</td>\n",
       "      <td>3.90000</td>\n",
       "    </tr>\n",
       "    <tr>\n",
       "      <th>sulphates</th>\n",
       "      <td>1596.0</td>\n",
       "      <td>0.658189</td>\n",
       "      <td>0.169587</td>\n",
       "      <td>0.33000</td>\n",
       "      <td>0.5500</td>\n",
       "      <td>0.620000</td>\n",
       "      <td>0.730000</td>\n",
       "      <td>2.00000</td>\n",
       "    </tr>\n",
       "    <tr>\n",
       "      <th>alcohol</th>\n",
       "      <td>1596.0</td>\n",
       "      <td>10.424217</td>\n",
       "      <td>1.066046</td>\n",
       "      <td>8.40000</td>\n",
       "      <td>9.5000</td>\n",
       "      <td>10.200000</td>\n",
       "      <td>11.100000</td>\n",
       "      <td>14.90000</td>\n",
       "    </tr>\n",
       "    <tr>\n",
       "      <th>quality</th>\n",
       "      <td>1596.0</td>\n",
       "      <td>5.636591</td>\n",
       "      <td>0.807963</td>\n",
       "      <td>3.00000</td>\n",
       "      <td>5.0000</td>\n",
       "      <td>6.000000</td>\n",
       "      <td>6.000000</td>\n",
       "      <td>8.00000</td>\n",
       "    </tr>\n",
       "  </tbody>\n",
       "</table>\n",
       "</div>"
      ],
      "text/plain": [
       "                       count       mean        std      min      25%  \\\n",
       "fixed acidity         1596.0   8.321366   1.742121  4.60000   7.1000   \n",
       "volatile acidity      1596.0   0.527666   0.179154  0.12000   0.3900   \n",
       "citric acid           1596.0   0.271128   0.194847  0.00000   0.0900   \n",
       "residual sugar        1596.0   2.536936   1.408341  0.90000   1.9000   \n",
       "chlorides             1596.0   0.087487   0.047107  0.01200   0.0700   \n",
       "free sulfur dioxide   1596.0  15.882206  10.467380  1.00000   7.0000   \n",
       "total sulfur dioxide  1596.0  46.431078  32.893072  6.00000  22.0000   \n",
       "density               1596.0   0.996745   0.001889  0.99007   0.9956   \n",
       "pH                    1596.0   3.498716   0.080297  2.74000   3.5200   \n",
       "sulphates             1596.0   0.658189   0.169587  0.33000   0.5500   \n",
       "alcohol               1596.0  10.424217   1.066046  8.40000   9.5000   \n",
       "quality               1596.0   5.636591   0.807963  3.00000   5.0000   \n",
       "\n",
       "                            50%        75%        max  \n",
       "fixed acidity          7.900000   9.200000   15.90000  \n",
       "volatile acidity       0.520000   0.640000    1.58000  \n",
       "citric acid            0.260000   0.420000    1.00000  \n",
       "residual sugar         2.200000   2.600000   15.50000  \n",
       "chlorides              0.079000   0.090000    0.61100  \n",
       "free sulfur dioxide   14.000000  21.000000   72.00000  \n",
       "total sulfur dioxide  38.000000  62.000000  289.00000  \n",
       "density                0.996745   0.997842    1.00369  \n",
       "pH                     3.520000   3.520000    3.90000  \n",
       "sulphates              0.620000   0.730000    2.00000  \n",
       "alcohol               10.200000  11.100000   14.90000  \n",
       "quality                6.000000   6.000000    8.00000  "
      ]
     },
     "execution_count": 9,
     "metadata": {},
     "output_type": "execute_result"
    }
   ],
   "source": [
    "dataset.describe().T"
   ]
  },
  {
   "cell_type": "code",
   "execution_count": 10,
   "metadata": {},
   "outputs": [
    {
     "data": {
      "text/plain": [
       "fixed acidity           0\n",
       "volatile acidity        0\n",
       "citric acid             0\n",
       "residual sugar          0\n",
       "chlorides               0\n",
       "free sulfur dioxide     0\n",
       "total sulfur dioxide    0\n",
       "density                 0\n",
       "pH                      0\n",
       "sulphates               0\n",
       "alcohol                 0\n",
       "quality                 0\n",
       "dtype: int64"
      ]
     },
     "execution_count": 10,
     "metadata": {},
     "output_type": "execute_result"
    }
   ],
   "source": [
    "dataset.isnull().sum()"
   ]
  },
  {
   "cell_type": "code",
   "execution_count": 11,
   "metadata": {},
   "outputs": [
    {
     "data": {
      "text/html": [
       "<div>\n",
       "<style scoped>\n",
       "    .dataframe tbody tr th:only-of-type {\n",
       "        vertical-align: middle;\n",
       "    }\n",
       "\n",
       "    .dataframe tbody tr th {\n",
       "        vertical-align: top;\n",
       "    }\n",
       "\n",
       "    .dataframe thead th {\n",
       "        text-align: right;\n",
       "    }\n",
       "</style>\n",
       "<table border=\"1\" class=\"dataframe\">\n",
       "  <thead>\n",
       "    <tr style=\"text-align: right;\">\n",
       "      <th></th>\n",
       "      <th>fixed acidity</th>\n",
       "      <th>volatile acidity</th>\n",
       "      <th>citric acid</th>\n",
       "      <th>residual sugar</th>\n",
       "      <th>chlorides</th>\n",
       "      <th>free sulfur dioxide</th>\n",
       "      <th>total sulfur dioxide</th>\n",
       "      <th>density</th>\n",
       "      <th>pH</th>\n",
       "      <th>sulphates</th>\n",
       "      <th>alcohol</th>\n",
       "      <th>quality</th>\n",
       "    </tr>\n",
       "  </thead>\n",
       "  <tbody>\n",
       "    <tr>\n",
       "      <th>fixed acidity</th>\n",
       "      <td>1.000000</td>\n",
       "      <td>-0.255955</td>\n",
       "      <td>0.672203</td>\n",
       "      <td>0.115542</td>\n",
       "      <td>0.093517</td>\n",
       "      <td>-0.154348</td>\n",
       "      <td>-0.112605</td>\n",
       "      <td>0.668689</td>\n",
       "      <td>0.026958</td>\n",
       "      <td>0.183046</td>\n",
       "      <td>-0.062419</td>\n",
       "      <td>0.124090</td>\n",
       "    </tr>\n",
       "    <tr>\n",
       "      <th>volatile acidity</th>\n",
       "      <td>-0.255955</td>\n",
       "      <td>1.000000</td>\n",
       "      <td>-0.552080</td>\n",
       "      <td>0.002286</td>\n",
       "      <td>0.061452</td>\n",
       "      <td>-0.009960</td>\n",
       "      <td>0.076832</td>\n",
       "      <td>0.021761</td>\n",
       "      <td>-0.046243</td>\n",
       "      <td>-0.260504</td>\n",
       "      <td>-0.201591</td>\n",
       "      <td>-0.390616</td>\n",
       "    </tr>\n",
       "    <tr>\n",
       "      <th>citric acid</th>\n",
       "      <td>0.672203</td>\n",
       "      <td>-0.552080</td>\n",
       "      <td>1.000000</td>\n",
       "      <td>0.143201</td>\n",
       "      <td>0.203904</td>\n",
       "      <td>-0.061621</td>\n",
       "      <td>0.034873</td>\n",
       "      <td>0.365526</td>\n",
       "      <td>0.008324</td>\n",
       "      <td>0.312146</td>\n",
       "      <td>0.109062</td>\n",
       "      <td>0.226261</td>\n",
       "    </tr>\n",
       "    <tr>\n",
       "      <th>residual sugar</th>\n",
       "      <td>0.115542</td>\n",
       "      <td>0.002286</td>\n",
       "      <td>0.143201</td>\n",
       "      <td>1.000000</td>\n",
       "      <td>0.056236</td>\n",
       "      <td>0.187112</td>\n",
       "      <td>0.201120</td>\n",
       "      <td>0.355219</td>\n",
       "      <td>0.043099</td>\n",
       "      <td>0.004105</td>\n",
       "      <td>0.041798</td>\n",
       "      <td>0.015165</td>\n",
       "    </tr>\n",
       "    <tr>\n",
       "      <th>chlorides</th>\n",
       "      <td>0.093517</td>\n",
       "      <td>0.061452</td>\n",
       "      <td>0.203904</td>\n",
       "      <td>0.056236</td>\n",
       "      <td>1.000000</td>\n",
       "      <td>0.005456</td>\n",
       "      <td>0.047837</td>\n",
       "      <td>0.200860</td>\n",
       "      <td>-0.259456</td>\n",
       "      <td>0.371510</td>\n",
       "      <td>-0.221472</td>\n",
       "      <td>-0.129172</td>\n",
       "    </tr>\n",
       "    <tr>\n",
       "      <th>free sulfur dioxide</th>\n",
       "      <td>-0.154348</td>\n",
       "      <td>-0.009960</td>\n",
       "      <td>-0.061621</td>\n",
       "      <td>0.187112</td>\n",
       "      <td>0.005456</td>\n",
       "      <td>1.000000</td>\n",
       "      <td>0.668505</td>\n",
       "      <td>-0.021797</td>\n",
       "      <td>-0.025512</td>\n",
       "      <td>0.051200</td>\n",
       "      <td>-0.070222</td>\n",
       "      <td>-0.050656</td>\n",
       "    </tr>\n",
       "    <tr>\n",
       "      <th>total sulfur dioxide</th>\n",
       "      <td>-0.112605</td>\n",
       "      <td>0.076832</td>\n",
       "      <td>0.034873</td>\n",
       "      <td>0.201120</td>\n",
       "      <td>0.047837</td>\n",
       "      <td>0.668505</td>\n",
       "      <td>1.000000</td>\n",
       "      <td>0.070830</td>\n",
       "      <td>-0.162984</td>\n",
       "      <td>0.042082</td>\n",
       "      <td>-0.205951</td>\n",
       "      <td>-0.184857</td>\n",
       "    </tr>\n",
       "    <tr>\n",
       "      <th>density</th>\n",
       "      <td>0.668689</td>\n",
       "      <td>0.021761</td>\n",
       "      <td>0.365526</td>\n",
       "      <td>0.355219</td>\n",
       "      <td>0.200860</td>\n",
       "      <td>-0.021797</td>\n",
       "      <td>0.070830</td>\n",
       "      <td>1.000000</td>\n",
       "      <td>-0.037144</td>\n",
       "      <td>0.148561</td>\n",
       "      <td>-0.496244</td>\n",
       "      <td>-0.174567</td>\n",
       "    </tr>\n",
       "    <tr>\n",
       "      <th>pH</th>\n",
       "      <td>0.026958</td>\n",
       "      <td>-0.046243</td>\n",
       "      <td>0.008324</td>\n",
       "      <td>0.043099</td>\n",
       "      <td>-0.259456</td>\n",
       "      <td>-0.025512</td>\n",
       "      <td>-0.162984</td>\n",
       "      <td>-0.037144</td>\n",
       "      <td>1.000000</td>\n",
       "      <td>-0.260327</td>\n",
       "      <td>0.233510</td>\n",
       "      <td>0.133216</td>\n",
       "    </tr>\n",
       "    <tr>\n",
       "      <th>sulphates</th>\n",
       "      <td>0.183046</td>\n",
       "      <td>-0.260504</td>\n",
       "      <td>0.312146</td>\n",
       "      <td>0.004105</td>\n",
       "      <td>0.371510</td>\n",
       "      <td>0.051200</td>\n",
       "      <td>0.042082</td>\n",
       "      <td>0.148561</td>\n",
       "      <td>-0.260327</td>\n",
       "      <td>1.000000</td>\n",
       "      <td>0.092940</td>\n",
       "      <td>0.251798</td>\n",
       "    </tr>\n",
       "    <tr>\n",
       "      <th>alcohol</th>\n",
       "      <td>-0.062419</td>\n",
       "      <td>-0.201591</td>\n",
       "      <td>0.109062</td>\n",
       "      <td>0.041798</td>\n",
       "      <td>-0.221472</td>\n",
       "      <td>-0.070222</td>\n",
       "      <td>-0.205951</td>\n",
       "      <td>-0.496244</td>\n",
       "      <td>0.233510</td>\n",
       "      <td>0.092940</td>\n",
       "      <td>1.000000</td>\n",
       "      <td>0.476565</td>\n",
       "    </tr>\n",
       "    <tr>\n",
       "      <th>quality</th>\n",
       "      <td>0.124090</td>\n",
       "      <td>-0.390616</td>\n",
       "      <td>0.226261</td>\n",
       "      <td>0.015165</td>\n",
       "      <td>-0.129172</td>\n",
       "      <td>-0.050656</td>\n",
       "      <td>-0.184857</td>\n",
       "      <td>-0.174567</td>\n",
       "      <td>0.133216</td>\n",
       "      <td>0.251798</td>\n",
       "      <td>0.476565</td>\n",
       "      <td>1.000000</td>\n",
       "    </tr>\n",
       "  </tbody>\n",
       "</table>\n",
       "</div>"
      ],
      "text/plain": [
       "                      fixed acidity  volatile acidity  citric acid  \\\n",
       "fixed acidity              1.000000         -0.255955     0.672203   \n",
       "volatile acidity          -0.255955          1.000000    -0.552080   \n",
       "citric acid                0.672203         -0.552080     1.000000   \n",
       "residual sugar             0.115542          0.002286     0.143201   \n",
       "chlorides                  0.093517          0.061452     0.203904   \n",
       "free sulfur dioxide       -0.154348         -0.009960    -0.061621   \n",
       "total sulfur dioxide      -0.112605          0.076832     0.034873   \n",
       "density                    0.668689          0.021761     0.365526   \n",
       "pH                         0.026958         -0.046243     0.008324   \n",
       "sulphates                  0.183046         -0.260504     0.312146   \n",
       "alcohol                   -0.062419         -0.201591     0.109062   \n",
       "quality                    0.124090         -0.390616     0.226261   \n",
       "\n",
       "                      residual sugar  chlorides  free sulfur dioxide  \\\n",
       "fixed acidity               0.115542   0.093517            -0.154348   \n",
       "volatile acidity            0.002286   0.061452            -0.009960   \n",
       "citric acid                 0.143201   0.203904            -0.061621   \n",
       "residual sugar              1.000000   0.056236             0.187112   \n",
       "chlorides                   0.056236   1.000000             0.005456   \n",
       "free sulfur dioxide         0.187112   0.005456             1.000000   \n",
       "total sulfur dioxide        0.201120   0.047837             0.668505   \n",
       "density                     0.355219   0.200860            -0.021797   \n",
       "pH                          0.043099  -0.259456            -0.025512   \n",
       "sulphates                   0.004105   0.371510             0.051200   \n",
       "alcohol                     0.041798  -0.221472            -0.070222   \n",
       "quality                     0.015165  -0.129172            -0.050656   \n",
       "\n",
       "                      total sulfur dioxide   density        pH  sulphates  \\\n",
       "fixed acidity                    -0.112605  0.668689  0.026958   0.183046   \n",
       "volatile acidity                  0.076832  0.021761 -0.046243  -0.260504   \n",
       "citric acid                       0.034873  0.365526  0.008324   0.312146   \n",
       "residual sugar                    0.201120  0.355219  0.043099   0.004105   \n",
       "chlorides                         0.047837  0.200860 -0.259456   0.371510   \n",
       "free sulfur dioxide               0.668505 -0.021797 -0.025512   0.051200   \n",
       "total sulfur dioxide              1.000000  0.070830 -0.162984   0.042082   \n",
       "density                           0.070830  1.000000 -0.037144   0.148561   \n",
       "pH                               -0.162984 -0.037144  1.000000  -0.260327   \n",
       "sulphates                         0.042082  0.148561 -0.260327   1.000000   \n",
       "alcohol                          -0.205951 -0.496244  0.233510   0.092940   \n",
       "quality                          -0.184857 -0.174567  0.133216   0.251798   \n",
       "\n",
       "                       alcohol   quality  \n",
       "fixed acidity        -0.062419  0.124090  \n",
       "volatile acidity     -0.201591 -0.390616  \n",
       "citric acid           0.109062  0.226261  \n",
       "residual sugar        0.041798  0.015165  \n",
       "chlorides            -0.221472 -0.129172  \n",
       "free sulfur dioxide  -0.070222 -0.050656  \n",
       "total sulfur dioxide -0.205951 -0.184857  \n",
       "density              -0.496244 -0.174567  \n",
       "pH                    0.233510  0.133216  \n",
       "sulphates             0.092940  0.251798  \n",
       "alcohol               1.000000  0.476565  \n",
       "quality               0.476565  1.000000  "
      ]
     },
     "execution_count": 11,
     "metadata": {},
     "output_type": "execute_result"
    }
   ],
   "source": [
    "dataset.corr().T"
   ]
  },
  {
   "cell_type": "code",
   "execution_count": 12,
   "metadata": {},
   "outputs": [
    {
     "data": {
      "text/plain": [
       "5.0    679\n",
       "6.0    637\n",
       "7.0    199\n",
       "4.0     53\n",
       "8.0     18\n",
       "3.0     10\n",
       "Name: quality, dtype: int64"
      ]
     },
     "execution_count": 12,
     "metadata": {},
     "output_type": "execute_result"
    }
   ],
   "source": [
    "dataset.quality.value_counts()"
   ]
  },
  {
   "cell_type": "code",
   "execution_count": 13,
   "metadata": {},
   "outputs": [
    {
     "data": {
      "text/plain": [
       "<matplotlib.axes._subplots.AxesSubplot at 0x16f4b8d37c8>"
      ]
     },
     "execution_count": 13,
     "metadata": {},
     "output_type": "execute_result"
    },
    {
     "data": {
      "image/png": "[encoded data removed]",
      "text/plain": [
       "<Figure size 720x432 with 1 Axes>"
      ]
     },
     "metadata": {
      "needs_background": "light"
     },
     "output_type": "display_data"
    }
   ],
   "source": [
    "fig = plt.figure(figsize = (10,6))\n",
    "sns.barplot(x = 'quality', y = 'alcohol', data = dataset)"
   ]
  },
  {
   "cell_type": "code",
   "execution_count": 14,
   "metadata": {},
   "outputs": [
    {
     "data": {
      "image/png": "[encoded data removed]",
      "text/plain": [
       "<Figure size 720x504 with 2 Axes>"
      ]
     },
     "metadata": {
      "needs_background": "light"
     },
     "output_type": "display_data"
    }
   ],
   "source": [
    "plt.figure(figsize=(10,7))\n",
    "sns.heatmap(dataset.corr(), annot=True)\n",
    "plt.title('Correlation between the columns')\n",
    "plt.show()"
   ]
  },
  {
   "cell_type": "code",
   "execution_count": 15,
   "metadata": {},
   "outputs": [
    {
     "data": {
      "text/plain": [
       "array([[ 7.4  ,  0.7  ,  0.   , ...,  3.51 ,  0.56 ,  9.4  ],\n",
       "       [ 7.8  ,  0.88 ,  0.   , ...,  3.2  ,  0.68 ,  9.8  ],\n",
       "       [ 7.8  ,  0.76 ,  0.04 , ...,  3.26 ,  0.65 ,  9.8  ],\n",
       "       ...,\n",
       "       [ 6.3  ,  0.51 ,  0.13 , ...,  3.52 ,  0.75 , 11.   ],\n",
       "       [ 5.9  ,  0.645,  0.12 , ...,  3.52 ,  0.71 , 10.2  ],\n",
       "       [ 6.   ,  0.31 ,  0.47 , ...,  3.52 ,  0.66 , 11.   ]])"
      ]
     },
     "execution_count": 15,
     "metadata": {},
     "output_type": "execute_result"
    }
   ],
   "source": [
    "X = dataset.iloc[:,:-1].values\n",
    "X"
   ]
  },
  {
   "cell_type": "code",
   "execution_count": 16,
   "metadata": {},
   "outputs": [],
   "source": [
    "from sklearn.impute import SimpleImputer\n",
    "imputer = SimpleImputer(missing_values=np.nan,strategy='mean')\n",
    "imputer.fit(X[:,:-1])\n",
    "X[:,:-1]=imputer.transform(X[:,:-1])"
   ]
  },
  {
   "cell_type": "code",
   "execution_count": 17,
   "metadata": {},
   "outputs": [
    {
     "data": {
      "text/plain": [
       "False"
      ]
     },
     "execution_count": 17,
     "metadata": {},
     "output_type": "execute_result"
    }
   ],
   "source": [
    "np.any(np.isnan(X))"
   ]
  },
  {
   "cell_type": "code",
   "execution_count": 18,
   "metadata": {},
   "outputs": [],
   "source": [
    "dataset['quality']=dataset['quality'].fillna(np.mean)"
   ]
  },
  {
   "cell_type": "code",
   "execution_count": 19,
   "metadata": {},
   "outputs": [],
   "source": [
    "y=dataset['quality']"
   ]
  },
  {
   "cell_type": "code",
   "execution_count": 20,
   "metadata": {},
   "outputs": [
    {
     "data": {
      "text/plain": [
       "(1596,)"
      ]
     },
     "execution_count": 20,
     "metadata": {},
     "output_type": "execute_result"
    }
   ],
   "source": [
    "y.shape"
   ]
  },
  {
   "cell_type": "code",
   "execution_count": 21,
   "metadata": {},
   "outputs": [],
   "source": [
    "from sklearn.model_selection import cross_val_score, train_test_split\n",
    "X_train, X_test, y_train, y_test = train_test_split(X, y, test_size=0.25, random_state=0)"
   ]
  },
  {
   "cell_type": "code",
   "execution_count": 22,
   "metadata": {},
   "outputs": [
    {
     "data": {
      "text/plain": [
       "((1197, 11), (1197,))"
      ]
     },
     "execution_count": 22,
     "metadata": {},
     "output_type": "execute_result"
    }
   ],
   "source": [
    "X_train.shape,y_train.shape"
   ]
  },
  {
   "cell_type": "code",
   "execution_count": 23,
   "metadata": {},
   "outputs": [],
   "source": [
    "from sklearn.preprocessing import StandardScaler\n",
    "scaler = StandardScaler()\n",
    "X_train_scaled = scaler.fit_transform(X_train)\n",
    "X_test_scaled = scaler.transform(X_test)"
   ]
  },
  {
   "cell_type": "code",
   "execution_count": 24,
   "metadata": {},
   "outputs": [
    {
     "data": {
      "text/plain": [
       "array([[-0.35536587, -1.92225323,  0.35738182, ...,  0.26011591,\n",
       "         0.70852762,  1.30610499],\n",
       "       [-1.76388558, -1.04313118, -1.37433925, ...,  2.30097619,\n",
       "         0.76694126,  3.38724305],\n",
       "       [-0.86243297,  1.64918007, -0.9159425 , ...,  0.26011591,\n",
       "        -1.21912233, -0.77503307],\n",
       "       ...,\n",
       "       [ 0.37706437, -0.76840555,  0.66297966, ...,  0.26011591,\n",
       "         1.0005958 ,  0.45473033],\n",
       "       [ 0.37706437,  0.05577137,  1.12137641, ...,  0.26011591,\n",
       "        -0.28450417, -1.15342181],\n",
       "       [ 0.43340516,  0.60522265, -0.20288088, ...,  0.26011591,\n",
       "        -0.40133144, -0.68043589]])"
      ]
     },
     "execution_count": 24,
     "metadata": {},
     "output_type": "execute_result"
    }
   ],
   "source": [
    "X_train_scaled"
   ]
  },
  {
   "cell_type": "code",
   "execution_count": 25,
   "metadata": {},
   "outputs": [
    {
     "data": {
      "text/plain": [
       "LinearRegression()"
      ]
     },
     "execution_count": 25,
     "metadata": {},
     "output_type": "execute_result"
    }
   ],
   "source": [
    "from sklearn.linear_model import LinearRegression\n",
    "lin = LinearRegression()\n",
    "lin.fit(X_train_scaled, y_train)"
   ]
  },
  {
   "cell_type": "code",
   "execution_count": 26,
   "metadata": {},
   "outputs": [],
   "source": [
    "#from sklearn.metrics.regression import mean_squared_error\n",
    "\n",
    "lin_pred_train = lin.predict(X_train_scaled)\n",
    "lin_pred_test = lin.predict(X_test_scaled)"
   ]
  },
  {
   "cell_type": "code",
   "execution_count": 27,
   "metadata": {},
   "outputs": [
    {
     "data": {
      "text/plain": [
       "0.32365125597652367"
      ]
     },
     "execution_count": 27,
     "metadata": {},
     "output_type": "execute_result"
    }
   ],
   "source": [
    "from sklearn.metrics import r2_score\n",
    "r2_score(y_test,lin_pred_test)"
   ]
  },
  {
   "cell_type": "code",
   "execution_count": 28,
   "metadata": {},
   "outputs": [
    {
     "data": {
      "text/plain": [
       "RandomForestRegressor(n_estimators=10, random_state=94)"
      ]
     },
     "execution_count": 28,
     "metadata": {},
     "output_type": "execute_result"
    }
   ],
   "source": [
    "from sklearn.ensemble import RandomForestRegressor\n",
    "rfr = RandomForestRegressor(random_state=94, n_estimators=10)\n",
    "rfr.fit(X_train_scaled, y_train)"
   ]
  },
  {
   "cell_type": "code",
   "execution_count": 29,
   "metadata": {},
   "outputs": [],
   "source": [
    "rfr_pred_train = rfr.predict(X_train_scaled)\n",
    "rfr_pred_test = rfr.predict(X_test_scaled)"
   ]
  },
  {
   "cell_type": "code",
   "execution_count": 30,
   "metadata": {},
   "outputs": [
    {
     "data": {
      "text/plain": [
       "0.4379551689736876"
      ]
     },
     "execution_count": 30,
     "metadata": {},
     "output_type": "execute_result"
    }
   ],
   "source": [
    "from sklearn.metrics import r2_score\n",
    "r2_score(y_test,rfr_pred_test)"
   ]
  },
  {
   "cell_type": "code",
   "execution_count": null,
   "metadata": {},
   "outputs": [],
   "source": []
  }
 ],
 "metadata": {
  "kernelspec": {
   "display_name": "Python 3",
   "language": "python",
   "name": "python3"
  },
  "language_info": {
   "codemirror_mode": {
    "name": "ipython",
    "version": 3
   },
   "file_extension": ".py",
   "mimetype": "text/x-python",
   "name": "python",
   "nbconvert_exporter": "python",
   "pygments_lexer": "ipython3",
   "version": "3.7.6"
  }
 },
 "nbformat": 4,
 "nbformat_minor": 4
}
